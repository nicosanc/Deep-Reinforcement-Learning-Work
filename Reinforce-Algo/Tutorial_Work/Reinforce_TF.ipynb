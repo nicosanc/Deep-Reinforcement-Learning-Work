{
  "nbformat": 4,
  "nbformat_minor": 0,
  "metadata": {
    "colab": {
      "provenance": []
    },
    "kernelspec": {
      "name": "python3",
      "display_name": "Python 3"
    },
    "language_info": {
      "name": "python"
    }
  },
  "cells": [
    {
      "cell_type": "code",
      "execution_count": 2,
      "metadata": {
        "colab": {
          "base_uri": "https://localhost:8080/"
        },
        "id": "2REq8aULaCuH",
        "outputId": "fcae80ad-72db-4d4f-cd7b-4b635d0e43df"
      },
      "outputs": [
        {
          "output_type": "stream",
          "name": "stdout",
          "text": [
            "\r0% [Working]\r            \rGet:1 https://cloud.r-project.org/bin/linux/ubuntu jammy-cran40/ InRelease [3,626 B]\n",
            "\r0% [Waiting for headers] [Connecting to security.ubuntu.com (185.125.190.39)] [\r0% [Waiting for headers] [Connecting to security.ubuntu.com (185.125.190.39)] [\r                                                                               \rHit:2 https://developer.download.nvidia.com/compute/cuda/repos/ubuntu2204/x86_64  InRelease\n",
            "\r0% [Waiting for headers] [Connecting to security.ubuntu.com (185.125.190.39)] [\r                                                                               \rHit:3 http://archive.ubuntu.com/ubuntu jammy InRelease\n",
            "\r0% [Connecting to security.ubuntu.com (185.125.190.39)] [Connecting to ppa.laun\r                                                                               \rGet:4 http://archive.ubuntu.com/ubuntu jammy-updates InRelease [119 kB]\n",
            "Get:5 http://security.ubuntu.com/ubuntu jammy-security InRelease [110 kB]\n",
            "Hit:6 http://archive.ubuntu.com/ubuntu jammy-backports InRelease\n",
            "Get:7 http://archive.ubuntu.com/ubuntu jammy-updates/main amd64 Packages [1,547 kB]\n",
            "Get:8 https://ppa.launchpadcontent.net/c2d4u.team/c2d4u4.0+/ubuntu jammy InRelease [18.1 kB]\n",
            "Get:9 http://archive.ubuntu.com/ubuntu jammy-updates/restricted amd64 Packages [1,538 kB]\n",
            "Hit:10 https://ppa.launchpadcontent.net/deadsnakes/ppa/ubuntu jammy InRelease\n",
            "Get:11 http://archive.ubuntu.com/ubuntu jammy-updates/universe amd64 Packages [1,298 kB]\n",
            "Hit:12 https://ppa.launchpadcontent.net/graphics-drivers/ppa/ubuntu jammy InRelease\n",
            "Get:13 http://security.ubuntu.com/ubuntu jammy-security/universe amd64 Packages [1,031 kB]\n",
            "Hit:14 https://ppa.launchpadcontent.net/ubuntugis/ppa/ubuntu jammy InRelease\n",
            "Get:15 https://ppa.launchpadcontent.net/c2d4u.team/c2d4u4.0+/ubuntu jammy/main Sources [2,246 kB]\n",
            "Get:16 http://security.ubuntu.com/ubuntu jammy-security/main amd64 Packages [1,265 kB]\n",
            "Get:17 https://ppa.launchpadcontent.net/c2d4u.team/c2d4u4.0+/ubuntu jammy/main amd64 Packages [1,153 kB]\n",
            "Fetched 10.3 MB in 6s (1,790 kB/s)\n",
            "Reading package lists... Done\n",
            "Reading package lists... Done\n",
            "Building dependency tree... Done\n",
            "Reading state information... Done\n",
            "ffmpeg is already the newest version (7:4.4.2-0ubuntu0.22.04.1).\n",
            "The following additional packages will be installed:\n",
            "  freeglut3 libegl-dev libfontenc1 libgl-dev libgl1-mesa-dev libgles-dev\n",
            "  libgles1 libglu1-mesa libglu1-mesa-dev libglvnd-core-dev libglvnd-dev\n",
            "  libglx-dev libice-dev libopengl-dev libsm-dev libxfont2 libxkbfile1\n",
            "  libxt-dev x11-xkb-utils xfonts-base xfonts-encodings xfonts-utils\n",
            "  xserver-common\n",
            "Suggested packages:\n",
            "  libice-doc libsm-doc libxt-doc\n",
            "The following NEW packages will be installed:\n",
            "  freeglut3 freeglut3-dev libegl-dev libfontenc1 libgl-dev libgl1-mesa-dev\n",
            "  libgles-dev libgles1 libglu1-mesa libglu1-mesa-dev libglvnd-core-dev\n",
            "  libglvnd-dev libglx-dev libice-dev libopengl-dev libsm-dev libxfont2\n",
            "  libxkbfile1 libxt-dev x11-xkb-utils xfonts-base xfonts-encodings\n",
            "  xfonts-utils xserver-common xvfb\n",
            "0 upgraded, 25 newly installed, 0 to remove and 18 not upgraded.\n",
            "Need to get 9,075 kB of archives.\n",
            "After this operation, 18.7 MB of additional disk space will be used.\n",
            "Get:1 http://archive.ubuntu.com/ubuntu jammy/universe amd64 freeglut3 amd64 2.8.1-6 [74.0 kB]\n",
            "Get:2 http://archive.ubuntu.com/ubuntu jammy/main amd64 libglx-dev amd64 1.4.0-1 [14.1 kB]\n",
            "Get:3 http://archive.ubuntu.com/ubuntu jammy/main amd64 libgl-dev amd64 1.4.0-1 [101 kB]\n",
            "Get:4 http://archive.ubuntu.com/ubuntu jammy/main amd64 libglvnd-core-dev amd64 1.4.0-1 [12.7 kB]\n",
            "Get:5 http://archive.ubuntu.com/ubuntu jammy/main amd64 libegl-dev amd64 1.4.0-1 [18.0 kB]\n",
            "Get:6 http://archive.ubuntu.com/ubuntu jammy/main amd64 libgles1 amd64 1.4.0-1 [11.5 kB]\n",
            "Get:7 http://archive.ubuntu.com/ubuntu jammy/main amd64 libgles-dev amd64 1.4.0-1 [49.4 kB]\n",
            "Get:8 http://archive.ubuntu.com/ubuntu jammy/main amd64 libopengl-dev amd64 1.4.0-1 [3,400 B]\n",
            "Get:9 http://archive.ubuntu.com/ubuntu jammy/main amd64 libglvnd-dev amd64 1.4.0-1 [3,162 B]\n",
            "Get:10 http://archive.ubuntu.com/ubuntu jammy-updates/main amd64 libgl1-mesa-dev amd64 23.0.4-0ubuntu1~22.04.1 [6,510 B]\n",
            "Get:11 http://archive.ubuntu.com/ubuntu jammy/main amd64 libglu1-mesa amd64 9.0.2-1 [145 kB]\n",
            "Get:12 http://archive.ubuntu.com/ubuntu jammy/main amd64 libglu1-mesa-dev amd64 9.0.2-1 [231 kB]\n",
            "Get:13 http://archive.ubuntu.com/ubuntu jammy/main amd64 libice-dev amd64 2:1.0.10-1build2 [51.4 kB]\n",
            "Get:14 http://archive.ubuntu.com/ubuntu jammy/main amd64 libsm-dev amd64 2:1.2.3-1build2 [18.1 kB]\n",
            "Get:15 http://archive.ubuntu.com/ubuntu jammy/main amd64 libxt-dev amd64 1:1.2.1-1 [396 kB]\n",
            "Get:16 http://archive.ubuntu.com/ubuntu jammy/universe amd64 freeglut3-dev amd64 2.8.1-6 [126 kB]\n",
            "Get:17 http://archive.ubuntu.com/ubuntu jammy/main amd64 libfontenc1 amd64 1:1.1.4-1build3 [14.7 kB]\n",
            "Get:18 http://archive.ubuntu.com/ubuntu jammy/main amd64 libxfont2 amd64 1:2.0.5-1build1 [94.5 kB]\n",
            "Get:19 http://archive.ubuntu.com/ubuntu jammy/main amd64 libxkbfile1 amd64 1:1.1.0-1build3 [71.8 kB]\n",
            "Get:20 http://archive.ubuntu.com/ubuntu jammy/main amd64 x11-xkb-utils amd64 7.7+5build4 [172 kB]\n",
            "Get:21 http://archive.ubuntu.com/ubuntu jammy/main amd64 xfonts-encodings all 1:1.0.5-0ubuntu2 [578 kB]\n",
            "Get:22 http://archive.ubuntu.com/ubuntu jammy/main amd64 xfonts-utils amd64 1:7.7+6build2 [94.6 kB]\n",
            "Get:23 http://archive.ubuntu.com/ubuntu jammy/main amd64 xfonts-base all 1:1.0.5 [5,896 kB]\n",
            "Get:24 http://archive.ubuntu.com/ubuntu jammy-updates/main amd64 xserver-common all 2:21.1.4-2ubuntu1.7~22.04.2 [28.1 kB]\n",
            "Get:25 http://archive.ubuntu.com/ubuntu jammy-updates/universe amd64 xvfb amd64 2:21.1.4-2ubuntu1.7~22.04.2 [864 kB]\n",
            "Fetched 9,075 kB in 2s (5,836 kB/s)\n",
            "debconf: unable to initialize frontend: Dialog\n",
            "debconf: (No usable dialog-like program is installed, so the dialog based frontend cannot be used. at /usr/share/perl5/Debconf/FrontEnd/Dialog.pm line 78, <> line 25.)\n",
            "debconf: falling back to frontend: Readline\n",
            "debconf: unable to initialize frontend: Readline\n",
            "debconf: (This frontend requires a controlling tty.)\n",
            "debconf: falling back to frontend: Teletype\n",
            "dpkg-preconfigure: unable to re-open stdin: \n",
            "Selecting previously unselected package freeglut3:amd64.\n",
            "(Reading database ... 120882 files and directories currently installed.)\n",
            "Preparing to unpack .../00-freeglut3_2.8.1-6_amd64.deb ...\n",
            "Unpacking freeglut3:amd64 (2.8.1-6) ...\n",
            "Selecting previously unselected package libglx-dev:amd64.\n",
            "Preparing to unpack .../01-libglx-dev_1.4.0-1_amd64.deb ...\n",
            "Unpacking libglx-dev:amd64 (1.4.0-1) ...\n",
            "Selecting previously unselected package libgl-dev:amd64.\n",
            "Preparing to unpack .../02-libgl-dev_1.4.0-1_amd64.deb ...\n",
            "Unpacking libgl-dev:amd64 (1.4.0-1) ...\n",
            "Selecting previously unselected package libglvnd-core-dev:amd64.\n",
            "Preparing to unpack .../03-libglvnd-core-dev_1.4.0-1_amd64.deb ...\n",
            "Unpacking libglvnd-core-dev:amd64 (1.4.0-1) ...\n",
            "Selecting previously unselected package libegl-dev:amd64.\n",
            "Preparing to unpack .../04-libegl-dev_1.4.0-1_amd64.deb ...\n",
            "Unpacking libegl-dev:amd64 (1.4.0-1) ...\n",
            "Selecting previously unselected package libgles1:amd64.\n",
            "Preparing to unpack .../05-libgles1_1.4.0-1_amd64.deb ...\n",
            "Unpacking libgles1:amd64 (1.4.0-1) ...\n",
            "Selecting previously unselected package libgles-dev:amd64.\n",
            "Preparing to unpack .../06-libgles-dev_1.4.0-1_amd64.deb ...\n",
            "Unpacking libgles-dev:amd64 (1.4.0-1) ...\n",
            "Selecting previously unselected package libopengl-dev:amd64.\n",
            "Preparing to unpack .../07-libopengl-dev_1.4.0-1_amd64.deb ...\n",
            "Unpacking libopengl-dev:amd64 (1.4.0-1) ...\n",
            "Selecting previously unselected package libglvnd-dev:amd64.\n",
            "Preparing to unpack .../08-libglvnd-dev_1.4.0-1_amd64.deb ...\n",
            "Unpacking libglvnd-dev:amd64 (1.4.0-1) ...\n",
            "Selecting previously unselected package libgl1-mesa-dev:amd64.\n",
            "Preparing to unpack .../09-libgl1-mesa-dev_23.0.4-0ubuntu1~22.04.1_amd64.deb ...\n",
            "Unpacking libgl1-mesa-dev:amd64 (23.0.4-0ubuntu1~22.04.1) ...\n",
            "Selecting previously unselected package libglu1-mesa:amd64.\n",
            "Preparing to unpack .../10-libglu1-mesa_9.0.2-1_amd64.deb ...\n",
            "Unpacking libglu1-mesa:amd64 (9.0.2-1) ...\n",
            "Selecting previously unselected package libglu1-mesa-dev:amd64.\n",
            "Preparing to unpack .../11-libglu1-mesa-dev_9.0.2-1_amd64.deb ...\n",
            "Unpacking libglu1-mesa-dev:amd64 (9.0.2-1) ...\n",
            "Selecting previously unselected package libice-dev:amd64.\n",
            "Preparing to unpack .../12-libice-dev_2%3a1.0.10-1build2_amd64.deb ...\n",
            "Unpacking libice-dev:amd64 (2:1.0.10-1build2) ...\n",
            "Selecting previously unselected package libsm-dev:amd64.\n",
            "Preparing to unpack .../13-libsm-dev_2%3a1.2.3-1build2_amd64.deb ...\n",
            "Unpacking libsm-dev:amd64 (2:1.2.3-1build2) ...\n",
            "Selecting previously unselected package libxt-dev:amd64.\n",
            "Preparing to unpack .../14-libxt-dev_1%3a1.2.1-1_amd64.deb ...\n",
            "Unpacking libxt-dev:amd64 (1:1.2.1-1) ...\n",
            "Selecting previously unselected package freeglut3-dev:amd64.\n",
            "Preparing to unpack .../15-freeglut3-dev_2.8.1-6_amd64.deb ...\n",
            "Unpacking freeglut3-dev:amd64 (2.8.1-6) ...\n",
            "Selecting previously unselected package libfontenc1:amd64.\n",
            "Preparing to unpack .../16-libfontenc1_1%3a1.1.4-1build3_amd64.deb ...\n",
            "Unpacking libfontenc1:amd64 (1:1.1.4-1build3) ...\n",
            "Selecting previously unselected package libxfont2:amd64.\n",
            "Preparing to unpack .../17-libxfont2_1%3a2.0.5-1build1_amd64.deb ...\n",
            "Unpacking libxfont2:amd64 (1:2.0.5-1build1) ...\n",
            "Selecting previously unselected package libxkbfile1:amd64.\n",
            "Preparing to unpack .../18-libxkbfile1_1%3a1.1.0-1build3_amd64.deb ...\n",
            "Unpacking libxkbfile1:amd64 (1:1.1.0-1build3) ...\n",
            "Selecting previously unselected package x11-xkb-utils.\n",
            "Preparing to unpack .../19-x11-xkb-utils_7.7+5build4_amd64.deb ...\n",
            "Unpacking x11-xkb-utils (7.7+5build4) ...\n",
            "Selecting previously unselected package xfonts-encodings.\n",
            "Preparing to unpack .../20-xfonts-encodings_1%3a1.0.5-0ubuntu2_all.deb ...\n",
            "Unpacking xfonts-encodings (1:1.0.5-0ubuntu2) ...\n",
            "Selecting previously unselected package xfonts-utils.\n",
            "Preparing to unpack .../21-xfonts-utils_1%3a7.7+6build2_amd64.deb ...\n",
            "Unpacking xfonts-utils (1:7.7+6build2) ...\n",
            "Selecting previously unselected package xfonts-base.\n",
            "Preparing to unpack .../22-xfonts-base_1%3a1.0.5_all.deb ...\n",
            "Unpacking xfonts-base (1:1.0.5) ...\n",
            "Selecting previously unselected package xserver-common.\n",
            "Preparing to unpack .../23-xserver-common_2%3a21.1.4-2ubuntu1.7~22.04.2_all.deb ...\n",
            "Unpacking xserver-common (2:21.1.4-2ubuntu1.7~22.04.2) ...\n",
            "Selecting previously unselected package xvfb.\n",
            "Preparing to unpack .../24-xvfb_2%3a21.1.4-2ubuntu1.7~22.04.2_amd64.deb ...\n",
            "Unpacking xvfb (2:21.1.4-2ubuntu1.7~22.04.2) ...\n",
            "Setting up freeglut3:amd64 (2.8.1-6) ...\n",
            "Setting up libglvnd-core-dev:amd64 (1.4.0-1) ...\n",
            "Setting up libice-dev:amd64 (2:1.0.10-1build2) ...\n",
            "Setting up libsm-dev:amd64 (2:1.2.3-1build2) ...\n",
            "Setting up libfontenc1:amd64 (1:1.1.4-1build3) ...\n",
            "Setting up libxt-dev:amd64 (1:1.2.1-1) ...\n",
            "Setting up libgles1:amd64 (1.4.0-1) ...\n",
            "Setting up xfonts-encodings (1:1.0.5-0ubuntu2) ...\n",
            "Setting up libglx-dev:amd64 (1.4.0-1) ...\n",
            "Setting up libglu1-mesa:amd64 (9.0.2-1) ...\n",
            "Setting up libxkbfile1:amd64 (1:1.1.0-1build3) ...\n",
            "Setting up libopengl-dev:amd64 (1.4.0-1) ...\n",
            "Setting up libxfont2:amd64 (1:2.0.5-1build1) ...\n",
            "Setting up libgl-dev:amd64 (1.4.0-1) ...\n",
            "Setting up libegl-dev:amd64 (1.4.0-1) ...\n",
            "Setting up x11-xkb-utils (7.7+5build4) ...\n",
            "Setting up xfonts-utils (1:7.7+6build2) ...\n",
            "Setting up xfonts-base (1:1.0.5) ...\n",
            "Setting up libglu1-mesa-dev:amd64 (9.0.2-1) ...\n",
            "Setting up xserver-common (2:21.1.4-2ubuntu1.7~22.04.2) ...\n",
            "Setting up libgles-dev:amd64 (1.4.0-1) ...\n",
            "Setting up xvfb (2:21.1.4-2ubuntu1.7~22.04.2) ...\n",
            "Setting up libglvnd-dev:amd64 (1.4.0-1) ...\n",
            "Setting up libgl1-mesa-dev:amd64 (23.0.4-0ubuntu1~22.04.1) ...\n",
            "Setting up freeglut3-dev:amd64 (2.8.1-6) ...\n",
            "Processing triggers for libc-bin (2.35-0ubuntu3.4) ...\n",
            "/sbin/ldconfig.real: /usr/local/lib/libtbbmalloc.so.2 is not a symbolic link\n",
            "\n",
            "/sbin/ldconfig.real: /usr/local/lib/libtbbbind_2_5.so.3 is not a symbolic link\n",
            "\n",
            "/sbin/ldconfig.real: /usr/local/lib/libtbb.so.12 is not a symbolic link\n",
            "\n",
            "/sbin/ldconfig.real: /usr/local/lib/libtbbmalloc_proxy.so.2 is not a symbolic link\n",
            "\n",
            "/sbin/ldconfig.real: /usr/local/lib/libtbbbind.so.3 is not a symbolic link\n",
            "\n",
            "/sbin/ldconfig.real: /usr/local/lib/libtbbbind_2_0.so.3 is not a symbolic link\n",
            "\n",
            "Processing triggers for man-db (2.10.2-1) ...\n",
            "Processing triggers for fontconfig (2.13.1-4.2ubuntu5) ...\n",
            "Collecting imageio==2.4.0\n",
            "  Downloading imageio-2.4.0.tar.gz (3.3 MB)\n",
            "\u001b[2K     \u001b[90m━━━━━━━━━━━━━━━━━━━━━━━━━━━━━━━━━━━━━━━━\u001b[0m \u001b[32m3.3/3.3 MB\u001b[0m \u001b[31m14.8 MB/s\u001b[0m eta \u001b[36m0:00:00\u001b[0m\n",
            "\u001b[?25h  Preparing metadata (setup.py) ... \u001b[?25l\u001b[?25hdone\n",
            "Requirement already satisfied: numpy in /usr/local/lib/python3.10/dist-packages (from imageio==2.4.0) (1.23.5)\n",
            "Requirement already satisfied: pillow in /usr/local/lib/python3.10/dist-packages (from imageio==2.4.0) (9.4.0)\n",
            "Building wheels for collected packages: imageio\n",
            "  Building wheel for imageio (setup.py) ... \u001b[?25l\u001b[?25hdone\n",
            "  Created wheel for imageio: filename=imageio-2.4.0-py3-none-any.whl size=3303894 sha256=c8b18c73ea4218ed0b54d8b0655f57ed142fe9adf2be1dd5e484db94b41458d0\n",
            "  Stored in directory: /root/.cache/pip/wheels/8a/d8/1c/eb9350a4bd3ae8e8814a2f7f9cc832fedad8ea5a926181d60d\n",
            "Successfully built imageio\n",
            "Installing collected packages: imageio\n",
            "  Attempting uninstall: imageio\n",
            "    Found existing installation: imageio 2.31.6\n",
            "    Uninstalling imageio-2.31.6:\n",
            "      Successfully uninstalled imageio-2.31.6\n",
            "\u001b[31mERROR: pip's dependency resolver does not currently take into account all the packages that are installed. This behaviour is the source of the following dependency conflicts.\n",
            "moviepy 1.0.3 requires imageio<3.0,>=2.5; python_version >= \"3.4\", but you have imageio 2.4.0 which is incompatible.\n",
            "scikit-image 0.19.3 requires imageio>=2.4.1, but you have imageio 2.4.0 which is incompatible.\u001b[0m\u001b[31m\n",
            "\u001b[0mSuccessfully installed imageio-2.4.0\n",
            "Collecting pyvirtualdisplay\n",
            "  Downloading PyVirtualDisplay-3.0-py3-none-any.whl (15 kB)\n",
            "Installing collected packages: pyvirtualdisplay\n",
            "Successfully installed pyvirtualdisplay-3.0\n",
            "Collecting tf-agents[reverb]\n",
            "  Downloading tf_agents-0.18.0-py3-none-any.whl (1.4 MB)\n",
            "\u001b[2K     \u001b[90m━━━━━━━━━━━━━━━━━━━━━━━━━━━━━━━━━━━━━━━━\u001b[0m \u001b[32m1.4/1.4 MB\u001b[0m \u001b[31m7.3 MB/s\u001b[0m eta \u001b[36m0:00:00\u001b[0m\n",
            "\u001b[?25hRequirement already satisfied: absl-py>=0.6.1 in /usr/local/lib/python3.10/dist-packages (from tf-agents[reverb]) (1.4.0)\n",
            "Requirement already satisfied: cloudpickle>=1.3 in /usr/local/lib/python3.10/dist-packages (from tf-agents[reverb]) (2.2.1)\n",
            "Requirement already satisfied: gin-config>=0.4.0 in /usr/local/lib/python3.10/dist-packages (from tf-agents[reverb]) (0.5.0)\n",
            "Collecting gym<=0.23.0,>=0.17.0 (from tf-agents[reverb])\n",
            "  Downloading gym-0.23.0.tar.gz (624 kB)\n",
            "\u001b[2K     \u001b[90m━━━━━━━━━━━━━━━━━━━━━━━━━━━━━━━━━━━━━━━━\u001b[0m \u001b[32m624.4/624.4 kB\u001b[0m \u001b[31m13.6 MB/s\u001b[0m eta \u001b[36m0:00:00\u001b[0m\n",
            "\u001b[?25h  Installing build dependencies ... \u001b[?25l\u001b[?25hdone\n",
            "  Getting requirements to build wheel ... \u001b[?25l\u001b[?25hdone\n",
            "  Preparing metadata (pyproject.toml) ... \u001b[?25l\u001b[?25hdone\n",
            "Requirement already satisfied: numpy>=1.19.0 in /usr/local/lib/python3.10/dist-packages (from tf-agents[reverb]) (1.23.5)\n",
            "Requirement already satisfied: pillow in /usr/local/lib/python3.10/dist-packages (from tf-agents[reverb]) (9.4.0)\n",
            "Requirement already satisfied: six>=1.10.0 in /usr/local/lib/python3.10/dist-packages (from tf-agents[reverb]) (1.16.0)\n",
            "Requirement already satisfied: protobuf>=3.11.3 in /usr/local/lib/python3.10/dist-packages (from tf-agents[reverb]) (3.20.3)\n",
            "Requirement already satisfied: wrapt>=1.11.1 in /usr/local/lib/python3.10/dist-packages (from tf-agents[reverb]) (1.14.1)\n",
            "Requirement already satisfied: typing-extensions>=3.7.4.3 in /usr/local/lib/python3.10/dist-packages (from tf-agents[reverb]) (4.5.0)\n",
            "Collecting pygame==2.1.3 (from tf-agents[reverb])\n",
            "  Downloading pygame-2.1.3-cp310-cp310-manylinux_2_17_x86_64.manylinux2014_x86_64.whl (13.7 MB)\n",
            "\u001b[2K     \u001b[90m━━━━━━━━━━━━━━━━━━━━━━━━━━━━━━━━━━━━━━━━\u001b[0m \u001b[32m13.7/13.7 MB\u001b[0m \u001b[31m47.7 MB/s\u001b[0m eta \u001b[36m0:00:00\u001b[0m\n",
            "\u001b[?25hRequirement already satisfied: tensorflow-probability~=0.22.0 in /usr/local/lib/python3.10/dist-packages (from tf-agents[reverb]) (0.22.0)\n",
            "Collecting rlds (from tf-agents[reverb])\n",
            "  Downloading rlds-0.1.8-py3-none-manylinux2010_x86_64.whl (48 kB)\n",
            "\u001b[2K     \u001b[90m━━━━━━━━━━━━━━━━━━━━━━━━━━━━━━━━━━━━━━━━\u001b[0m \u001b[32m48.4/48.4 kB\u001b[0m \u001b[31m6.2 MB/s\u001b[0m eta \u001b[36m0:00:00\u001b[0m\n",
            "\u001b[?25hCollecting dm-reverb~=0.13.0 (from tf-agents[reverb])\n",
            "  Downloading dm_reverb-0.13.0-cp310-cp310-manylinux2014_x86_64.whl (6.4 MB)\n",
            "\u001b[2K     \u001b[90m━━━━━━━━━━━━━━━━━━━━━━━━━━━━━━━━━━━━━━━━\u001b[0m \u001b[32m6.4/6.4 MB\u001b[0m \u001b[31m45.4 MB/s\u001b[0m eta \u001b[36m0:00:00\u001b[0m\n",
            "\u001b[?25hRequirement already satisfied: tensorflow~=2.14.0 in /usr/local/lib/python3.10/dist-packages (from tf-agents[reverb]) (2.14.0)\n",
            "Requirement already satisfied: dm-tree in /usr/local/lib/python3.10/dist-packages (from dm-reverb~=0.13.0->tf-agents[reverb]) (0.1.8)\n",
            "Requirement already satisfied: portpicker in /usr/local/lib/python3.10/dist-packages (from dm-reverb~=0.13.0->tf-agents[reverb]) (1.5.2)\n",
            "Requirement already satisfied: gym-notices>=0.0.4 in /usr/local/lib/python3.10/dist-packages (from gym<=0.23.0,>=0.17.0->tf-agents[reverb]) (0.0.8)\n",
            "Requirement already satisfied: astunparse>=1.6.0 in /usr/local/lib/python3.10/dist-packages (from tensorflow~=2.14.0->tf-agents[reverb]) (1.6.3)\n",
            "Requirement already satisfied: flatbuffers>=23.5.26 in /usr/local/lib/python3.10/dist-packages (from tensorflow~=2.14.0->tf-agents[reverb]) (23.5.26)\n",
            "Requirement already satisfied: gast!=0.5.0,!=0.5.1,!=0.5.2,>=0.2.1 in /usr/local/lib/python3.10/dist-packages (from tensorflow~=2.14.0->tf-agents[reverb]) (0.5.4)\n",
            "Requirement already satisfied: google-pasta>=0.1.1 in /usr/local/lib/python3.10/dist-packages (from tensorflow~=2.14.0->tf-agents[reverb]) (0.2.0)\n",
            "Requirement already satisfied: h5py>=2.9.0 in /usr/local/lib/python3.10/dist-packages (from tensorflow~=2.14.0->tf-agents[reverb]) (3.9.0)\n",
            "Requirement already satisfied: libclang>=13.0.0 in /usr/local/lib/python3.10/dist-packages (from tensorflow~=2.14.0->tf-agents[reverb]) (16.0.6)\n",
            "Requirement already satisfied: ml-dtypes==0.2.0 in /usr/local/lib/python3.10/dist-packages (from tensorflow~=2.14.0->tf-agents[reverb]) (0.2.0)\n",
            "Requirement already satisfied: opt-einsum>=2.3.2 in /usr/local/lib/python3.10/dist-packages (from tensorflow~=2.14.0->tf-agents[reverb]) (3.3.0)\n",
            "Requirement already satisfied: packaging in /usr/local/lib/python3.10/dist-packages (from tensorflow~=2.14.0->tf-agents[reverb]) (23.2)\n",
            "Requirement already satisfied: setuptools in /usr/local/lib/python3.10/dist-packages (from tensorflow~=2.14.0->tf-agents[reverb]) (67.7.2)\n",
            "Requirement already satisfied: termcolor>=1.1.0 in /usr/local/lib/python3.10/dist-packages (from tensorflow~=2.14.0->tf-agents[reverb]) (2.3.0)\n",
            "Requirement already satisfied: tensorflow-io-gcs-filesystem>=0.23.1 in /usr/local/lib/python3.10/dist-packages (from tensorflow~=2.14.0->tf-agents[reverb]) (0.34.0)\n",
            "Requirement already satisfied: grpcio<2.0,>=1.24.3 in /usr/local/lib/python3.10/dist-packages (from tensorflow~=2.14.0->tf-agents[reverb]) (1.59.3)\n",
            "Requirement already satisfied: tensorboard<2.15,>=2.14 in /usr/local/lib/python3.10/dist-packages (from tensorflow~=2.14.0->tf-agents[reverb]) (2.14.1)\n",
            "Requirement already satisfied: tensorflow-estimator<2.15,>=2.14.0 in /usr/local/lib/python3.10/dist-packages (from tensorflow~=2.14.0->tf-agents[reverb]) (2.14.0)\n",
            "Requirement already satisfied: keras<2.15,>=2.14.0 in /usr/local/lib/python3.10/dist-packages (from tensorflow~=2.14.0->tf-agents[reverb]) (2.14.0)\n",
            "Requirement already satisfied: decorator in /usr/local/lib/python3.10/dist-packages (from tensorflow-probability~=0.22.0->tf-agents[reverb]) (4.4.2)\n",
            "Requirement already satisfied: wheel<1.0,>=0.23.0 in /usr/local/lib/python3.10/dist-packages (from astunparse>=1.6.0->tensorflow~=2.14.0->tf-agents[reverb]) (0.42.0)\n",
            "Requirement already satisfied: google-auth<3,>=1.6.3 in /usr/local/lib/python3.10/dist-packages (from tensorboard<2.15,>=2.14->tensorflow~=2.14.0->tf-agents[reverb]) (2.17.3)\n",
            "Requirement already satisfied: google-auth-oauthlib<1.1,>=0.5 in /usr/local/lib/python3.10/dist-packages (from tensorboard<2.15,>=2.14->tensorflow~=2.14.0->tf-agents[reverb]) (1.0.0)\n",
            "Requirement already satisfied: markdown>=2.6.8 in /usr/local/lib/python3.10/dist-packages (from tensorboard<2.15,>=2.14->tensorflow~=2.14.0->tf-agents[reverb]) (3.5.1)\n",
            "Requirement already satisfied: requests<3,>=2.21.0 in /usr/local/lib/python3.10/dist-packages (from tensorboard<2.15,>=2.14->tensorflow~=2.14.0->tf-agents[reverb]) (2.31.0)\n",
            "Requirement already satisfied: tensorboard-data-server<0.8.0,>=0.7.0 in /usr/local/lib/python3.10/dist-packages (from tensorboard<2.15,>=2.14->tensorflow~=2.14.0->tf-agents[reverb]) (0.7.2)\n",
            "Requirement already satisfied: werkzeug>=1.0.1 in /usr/local/lib/python3.10/dist-packages (from tensorboard<2.15,>=2.14->tensorflow~=2.14.0->tf-agents[reverb]) (3.0.1)\n",
            "Requirement already satisfied: psutil in /usr/local/lib/python3.10/dist-packages (from portpicker->dm-reverb~=0.13.0->tf-agents[reverb]) (5.9.5)\n",
            "Requirement already satisfied: cachetools<6.0,>=2.0.0 in /usr/local/lib/python3.10/dist-packages (from google-auth<3,>=1.6.3->tensorboard<2.15,>=2.14->tensorflow~=2.14.0->tf-agents[reverb]) (5.3.2)\n",
            "Requirement already satisfied: pyasn1-modules>=0.2.1 in /usr/local/lib/python3.10/dist-packages (from google-auth<3,>=1.6.3->tensorboard<2.15,>=2.14->tensorflow~=2.14.0->tf-agents[reverb]) (0.3.0)\n",
            "Requirement already satisfied: rsa<5,>=3.1.4 in /usr/local/lib/python3.10/dist-packages (from google-auth<3,>=1.6.3->tensorboard<2.15,>=2.14->tensorflow~=2.14.0->tf-agents[reverb]) (4.9)\n",
            "Requirement already satisfied: requests-oauthlib>=0.7.0 in /usr/local/lib/python3.10/dist-packages (from google-auth-oauthlib<1.1,>=0.5->tensorboard<2.15,>=2.14->tensorflow~=2.14.0->tf-agents[reverb]) (1.3.1)\n",
            "Requirement already satisfied: charset-normalizer<4,>=2 in /usr/local/lib/python3.10/dist-packages (from requests<3,>=2.21.0->tensorboard<2.15,>=2.14->tensorflow~=2.14.0->tf-agents[reverb]) (3.3.2)\n",
            "Requirement already satisfied: idna<4,>=2.5 in /usr/local/lib/python3.10/dist-packages (from requests<3,>=2.21.0->tensorboard<2.15,>=2.14->tensorflow~=2.14.0->tf-agents[reverb]) (3.6)\n",
            "Requirement already satisfied: urllib3<3,>=1.21.1 in /usr/local/lib/python3.10/dist-packages (from requests<3,>=2.21.0->tensorboard<2.15,>=2.14->tensorflow~=2.14.0->tf-agents[reverb]) (2.0.7)\n",
            "Requirement already satisfied: certifi>=2017.4.17 in /usr/local/lib/python3.10/dist-packages (from requests<3,>=2.21.0->tensorboard<2.15,>=2.14->tensorflow~=2.14.0->tf-agents[reverb]) (2023.11.17)\n",
            "Requirement already satisfied: MarkupSafe>=2.1.1 in /usr/local/lib/python3.10/dist-packages (from werkzeug>=1.0.1->tensorboard<2.15,>=2.14->tensorflow~=2.14.0->tf-agents[reverb]) (2.1.3)\n",
            "Requirement already satisfied: pyasn1<0.6.0,>=0.4.6 in /usr/local/lib/python3.10/dist-packages (from pyasn1-modules>=0.2.1->google-auth<3,>=1.6.3->tensorboard<2.15,>=2.14->tensorflow~=2.14.0->tf-agents[reverb]) (0.5.1)\n",
            "Requirement already satisfied: oauthlib>=3.0.0 in /usr/local/lib/python3.10/dist-packages (from requests-oauthlib>=0.7.0->google-auth-oauthlib<1.1,>=0.5->tensorboard<2.15,>=2.14->tensorflow~=2.14.0->tf-agents[reverb]) (3.2.2)\n",
            "Building wheels for collected packages: gym\n",
            "  Building wheel for gym (pyproject.toml) ... \u001b[?25l\u001b[?25hdone\n",
            "  Created wheel for gym: filename=gym-0.23.0-py3-none-any.whl size=697631 sha256=dab7f7af6ff7e0ff6c86514afcf028c52589e0481c345fdfa212a248fca289b9\n",
            "  Stored in directory: /root/.cache/pip/wheels/3d/6f/b4/3991d4fae11d0ecb0754c11cc1b4e7745012850da4efaaf0b1\n",
            "Successfully built gym\n",
            "Installing collected packages: rlds, pygame, gym, tf-agents, dm-reverb\n",
            "  Attempting uninstall: pygame\n",
            "    Found existing installation: pygame 2.5.2\n",
            "    Uninstalling pygame-2.5.2:\n",
            "      Successfully uninstalled pygame-2.5.2\n",
            "  Attempting uninstall: gym\n",
            "    Found existing installation: gym 0.25.2\n",
            "    Uninstalling gym-0.25.2:\n",
            "      Successfully uninstalled gym-0.25.2\n",
            "Successfully installed dm-reverb-0.13.0 gym-0.23.0 pygame-2.1.3 rlds-0.1.8 tf-agents-0.18.0\n",
            "Collecting pyglet\n",
            "  Downloading pyglet-2.0.10-py3-none-any.whl (858 kB)\n",
            "\u001b[2K     \u001b[90m━━━━━━━━━━━━━━━━━━━━━━━━━━━━━━━━━━━━━━━━\u001b[0m \u001b[32m858.3/858.3 kB\u001b[0m \u001b[31m21.3 MB/s\u001b[0m eta \u001b[36m0:00:00\u001b[0m\n",
            "\u001b[?25hCollecting xvfbwrapper\n",
            "  Downloading xvfbwrapper-0.2.9.tar.gz (5.6 kB)\n",
            "  Preparing metadata (setup.py) ... \u001b[?25l\u001b[?25hdone\n",
            "Building wheels for collected packages: xvfbwrapper\n",
            "  Building wheel for xvfbwrapper (setup.py) ... \u001b[?25l\u001b[?25hdone\n",
            "  Created wheel for xvfbwrapper: filename=xvfbwrapper-0.2.9-py3-none-any.whl size=5009 sha256=383544d8abcb3f63904952251e3b10557a27da6cedf02a67e529971fb26aff9c\n",
            "  Stored in directory: /root/.cache/pip/wheels/cb/10/7d/2b7fdffccf837f7d5425931575fbee9caebe2c190931f9058b\n",
            "Successfully built xvfbwrapper\n",
            "Installing collected packages: xvfbwrapper, pyglet\n",
            "Successfully installed pyglet-2.0.10 xvfbwrapper-0.2.9\n"
          ]
        }
      ],
      "source": [
        "!sudo apt-get update\n",
        "!sudo apt-get install -y xvfb ffmpeg freeglut3-dev\n",
        "!pip install 'imageio==2.4.0'\n",
        "!pip install pyvirtualdisplay\n",
        "!pip install tf-agents[reverb]\n",
        "!pip install pyglet xvfbwrapper"
      ]
    },
    {
      "cell_type": "code",
      "source": [
        "from __future__ import absolute_import\n",
        "from __future__ import division\n",
        "from __future__ import print_function\n",
        "\n",
        "import base64\n",
        "import imageio\n",
        "import IPython\n",
        "import matplotlib.pyplot as plt\n",
        "import numpy as np\n",
        "import PIL.Image\n",
        "import pyvirtualdisplay\n",
        "import reverb\n",
        "\n",
        "import tensorflow as tf\n",
        "\n",
        "from tf_agents.agents.reinforce import reinforce_agent\n",
        "from tf_agents.drivers import py_driver\n",
        "from tf_agents.environments import suite_gym\n",
        "from tf_agents.environments import tf_py_environment\n",
        "from tf_agents.networks import actor_distribution_network\n",
        "from tf_agents.policies import py_tf_eager_policy\n",
        "from tf_agents.replay_buffers import reverb_replay_buffer\n",
        "from tf_agents.replay_buffers import reverb_utils\n",
        "from tf_agents.specs import tensor_spec\n",
        "from tf_agents.trajectories import trajectory\n",
        "from tf_agents.utils import common\n",
        "\n",
        "# Set up a virtual display for rendering OpenAI gym environments.\n",
        "display = pyvirtualdisplay.Display(visible=0, size=(1400, 900)).start()"
      ],
      "metadata": {
        "id": "Cm5u8jcAbsbm"
      },
      "execution_count": 8,
      "outputs": []
    },
    {
      "cell_type": "markdown",
      "source": [
        "# Hyperparameters\n"
      ],
      "metadata": {
        "id": "y9tus1Fwc2Vc"
      }
    },
    {
      "cell_type": "code",
      "source": [
        "env_name = \"CartPole-v0\"\n",
        "num_iterations = 100\n",
        "collect_episodes_per_iteration = 2\n",
        "replay_buffer_capacity = 2000\n",
        "fc_layer_params =(100,)\n",
        "learning_rate = 1e-3\n",
        "# ???\n",
        "log_interval = 25\n",
        "num_eval_episodes = 10\n",
        "# ???\n",
        "eval_interval = 50\n"
      ],
      "metadata": {
        "id": "kS4AhlsicP70"
      },
      "execution_count": 4,
      "outputs": []
    },
    {
      "cell_type": "markdown",
      "source": [
        "# Environment\n"
      ],
      "metadata": {
        "id": "SSIhkD5Ec8UE"
      }
    },
    {
      "cell_type": "code",
      "source": [
        "env = suite_gym.load(env_name)\n",
        "env.reset()\n",
        "PIL.Image.fromarray(env.render())\n",
        "print('Observation Spec:')\n",
        "print(env.time_step_spec().observation)\n",
        "print('Action Spec:')\n",
        "print(env.action_spec())"
      ],
      "metadata": {
        "colab": {
          "base_uri": "https://localhost:8080/"
        },
        "id": "orgjQ-Poc9v7",
        "outputId": "6f6518b8-9e65-4ee2-ea8f-b41cd171ec86"
      },
      "execution_count": 21,
      "outputs": [
        {
          "output_type": "stream",
          "name": "stdout",
          "text": [
            "Observation Spec:\n",
            "BoundedArraySpec(shape=(4,), dtype=dtype('float32'), name='observation', minimum=[-4.8000002e+00 -3.4028235e+38 -4.1887903e-01 -3.4028235e+38], maximum=[4.8000002e+00 3.4028235e+38 4.1887903e-01 3.4028235e+38])\n",
            "Action Spec:\n",
            "BoundedArraySpec(shape=(), dtype=dtype('int64'), name='action', minimum=0, maximum=1)\n"
          ]
        }
      ]
    },
    {
      "cell_type": "markdown",
      "source": [
        "The time_step = environment.step(action) statement takes action in the environment. The TimeStep tuple returned contains the environment's next observation and reward for that action. The time_step_spec() and action_spec() methods in the environment return the specifications (types, shapes, bounds) of the time_step and action respectively."
      ],
      "metadata": {
        "id": "qvl7JUwTizF1"
      }
    },
    {
      "cell_type": "code",
      "source": [
        "time_step = env.reset()\n",
        "print('Time step:', time_step)\n",
        "action  = np.array(1, dtype=np.int32)\n",
        "next_time_step = env.step(action)\n",
        "print('Time step:', next_time_step)\n"
      ],
      "metadata": {
        "colab": {
          "base_uri": "https://localhost:8080/"
        },
        "id": "rhHpgfDciy4w",
        "outputId": "375af14a-fd9c-404e-c0d9-5550e50d011d"
      },
      "execution_count": 22,
      "outputs": [
        {
          "output_type": "stream",
          "name": "stdout",
          "text": [
            "Time step: TimeStep(\n",
            "{'discount': array(1., dtype=float32),\n",
            " 'observation': array([ 0.0019466 ,  0.02567801, -0.01482228,  0.04352996], dtype=float32),\n",
            " 'reward': array(0., dtype=float32),\n",
            " 'step_type': array(0, dtype=int32)})\n",
            "Time step: TimeStep(\n",
            "{'discount': array(1., dtype=float32),\n",
            " 'observation': array([ 0.00246016,  0.22100933, -0.01395168, -0.25379243], dtype=float32),\n",
            " 'reward': array(1., dtype=float32),\n",
            " 'step_type': array(1, dtype=int32)})\n"
          ]
        }
      ]
    },
    {
      "cell_type": "code",
      "source": [
        "train_py_env = suite_gym.load(env_name)\n",
        "eval_py_env = suite_gym.load(env_name)\n",
        "\n",
        "train_env = tf_py_environment.TFPyEnvironment(train_py_env)\n",
        "eval_env = tf_py_environment.TFPyEnvironment(eval_py_env)\n"
      ],
      "metadata": {
        "id": "HBrl4RLLkpbc"
      },
      "execution_count": 23,
      "outputs": []
    },
    {
      "cell_type": "markdown",
      "source": [
        "# Agent\n"
      ],
      "metadata": {
        "id": "qrL01otIk61C"
      }
    },
    {
      "cell_type": "code",
      "source": [
        "actor_net = actor_distribution_network.ActorDistributionNetwork(\n",
        "    train_env.observation_spec(),\n",
        "    train_env.action_spec(),\n",
        "    fc_layer_params=fc_layer_params)\n",
        "\n",
        "optimizer = tf.keras.optimizers.Adam(learning_rate=learning_rate)\n",
        "# this keeps track of how many times the network has updated\n",
        "train_step_counter = tf.Variable(0)\n",
        "\n",
        "tf_agent = reinforce_agent.ReinforceAgent(\n",
        "    train_env.time_step_spec(),\n",
        "    train_env.action_spec(),\n",
        "    actor_network = actor_net,\n",
        "    optimizer=optimizer,\n",
        "    normalize_returns=True,\n",
        "    train_step_counter=train_step_counter\n",
        ")\n",
        "tf_agent.initialize()"
      ],
      "metadata": {
        "id": "c_cotNZGk4lB"
      },
      "execution_count": 24,
      "outputs": []
    },
    {
      "cell_type": "code",
      "source": [
        "eval_policy = tf_agent.policy # used for actual eval and deployment\n",
        "collect_policy = tf_agent.collect_policy # used for data collection"
      ],
      "metadata": {
        "id": "Xprgs-DQnJKk"
      },
      "execution_count": 25,
      "outputs": []
    },
    {
      "cell_type": "markdown",
      "source": [
        "# Metrics and Evaluation"
      ],
      "metadata": {
        "id": "njg2uY2JnTiK"
      }
    },
    {
      "cell_type": "code",
      "source": [
        "def compute_avg_return(environment, policy, num_episodes=10):\n",
        "  total_return = 0.0\n",
        "  for epi in range(num_episodes):\n",
        "    time_step = environment.reset()\n",
        "    episode_return = 0.0\n",
        "\n",
        "    while not time_step.is_last():\n",
        "      action_step = policy.action(time_step)\n",
        "      time_step = environment.step(action_step.action)\n",
        "      episode_return += time_step.reward\n",
        "    total_return += episode_return\n",
        "  avg_return = total_return / num_episodes\n",
        "  return avg_return.numpy()[0]"
      ],
      "metadata": {
        "id": "ARh7H-BInS7w"
      },
      "execution_count": 26,
      "outputs": []
    },
    {
      "cell_type": "markdown",
      "source": [
        "# Replay Buffer\n"
      ],
      "metadata": {
        "id": "wYloQggr025Q"
      }
    },
    {
      "cell_type": "code",
      "source": [
        "# Using Reverb from Deepmind to efficiently keep track of previous experiences\n",
        "table_name = 'uniform_table'\n",
        "# ??? tensor spec, from spec, add outer dim\n",
        "replay_buffer_signature = tensor_spec.from_spec(tf_agent.collect_data_spec)\n",
        "replay_buffer_signature = tensor_spec.add_outer_dim(replay_buffer_signature)\n",
        "table = reverb.Table(\n",
        "    table_name,\n",
        "    max_size = replay_buffer_capacity,\n",
        "    sampler=reverb.selectors.Uniform(),\n",
        "    remover= reverb.selectors.Fifo(),\n",
        "    rate_limiter=reverb.rate_limiters.MinSize(1),\n",
        "    signature=replay_buffer_signature\n",
        ")\n",
        "\n",
        "reverb_server = reverb.Server([table])\n",
        "\n",
        "replay_buffer = reverb_replay_buffer.ReverbReplayBuffer(\n",
        "    tf_agent.collect_data_spec,\n",
        "    table_name = table_name,\n",
        "    sequence_length=None,\n",
        "    local_server=reverb_server\n",
        ")\n",
        "\n",
        "rb_observer = reverb_utils.ReverbAddEpisodeObserver(\n",
        "    replay_buffer.py_client,\n",
        "    table_name,\n",
        "    replay_buffer_capacity\n",
        ")\n"
      ],
      "metadata": {
        "id": "qJTIiwqC04w-"
      },
      "execution_count": 28,
      "outputs": []
    },
    {
      "cell_type": "markdown",
      "source": [
        "# Data Collection\n"
      ],
      "metadata": {
        "id": "c1SjmhNs2hlG"
      }
    },
    {
      "cell_type": "code",
      "source": [
        "def collect_episode(environment, policy, num_episodes):\n",
        "  driver = py_driver.PyDriver(\n",
        "      environment,\n",
        "      py_tf_eager_policy.PyTFEagerPolicy(\n",
        "          policy, use_tf_function=True),\n",
        "          [rb_observer],\n",
        "          max_episodes = num_episodes\n",
        "      )\n",
        "  initial_time_step = environment.reset()\n",
        "  driver.run(initial_time_step)\n",
        ""
      ],
      "metadata": {
        "id": "8U7c8VPc2jbv"
      },
      "execution_count": 29,
      "outputs": []
    },
    {
      "cell_type": "markdown",
      "source": [
        "# Training\n"
      ],
      "metadata": {
        "id": "g_wNcoO13QEm"
      }
    },
    {
      "cell_type": "code",
      "source": [
        "try:\n",
        "  %%time\n",
        "except:\n",
        "  pass\n",
        "\n",
        "tf_agent.train = common.function(tf_agent.train)\n",
        "\n",
        "# Reset the train step\n",
        "tf_agent.train_step_counter.assign(0)\n",
        "\n",
        "# Evaluate the agent's policy once before training.\n",
        "avg_return = compute_avg_return(eval_env, tf_agent.policy, num_eval_episodes)\n",
        "returns = [avg_return]\n",
        "\n",
        "for _ in range(num_iterations):\n",
        "\n",
        "  # Collect a few episodes using collect_policy and save to the replay buffer.\n",
        "  collect_episode(\n",
        "      train_py_env, tf_agent.collect_policy, collect_episodes_per_iteration)\n",
        "\n",
        "  # Use data from the buffer and update the agent's network.\n",
        "  iterator = iter(replay_buffer.as_dataset(sample_batch_size=1))\n",
        "  trajectories, _ = next(iterator)\n",
        "  train_loss = tf_agent.train(experience=trajectories)\n",
        "\n",
        "  replay_buffer.clear()\n",
        "\n",
        "  step = tf_agent.train_step_counter.numpy()\n",
        "\n",
        "  if step % log_interval == 0:\n",
        "    print('step = {0}: loss = {1}'.format(step, train_loss.loss))\n",
        "\n",
        "  if step % eval_interval == 0:\n",
        "    avg_return = compute_avg_return(eval_env, tf_agent.policy, num_eval_episodes)\n",
        "    print('step = {0}: Average Return = {1}'.format(step, avg_return))\n",
        "    returns.append(avg_return)\n",
        "\n"
      ],
      "metadata": {
        "colab": {
          "base_uri": "https://localhost:8080/"
        },
        "id": "DbAkTBLy3SOR",
        "outputId": "a3bf2cd1-e4d2-4e57-8b24-ed3bd8b38019"
      },
      "execution_count": 32,
      "outputs": [
        {
          "output_type": "stream",
          "name": "stdout",
          "text": [
            "step = 25: loss = 1.3565795421600342\n",
            "step = 50: loss = 2.1609420776367188\n",
            "step = 50: Average Return = 142.6999969482422\n",
            "step = 75: loss = 1.7962543964385986\n",
            "step = 100: loss = 2.569929361343384\n",
            "step = 100: Average Return = 132.1999969482422\n"
          ]
        }
      ]
    },
    {
      "cell_type": "code",
      "source": [
        "steps = range(0, num_iterations + 1, eval_interval)\n",
        "plt.plot(steps, returns)\n",
        "plt.ylabel('Average Return')\n",
        "plt.xlabel('Step')\n",
        "plt.ylim(top=250)"
      ],
      "metadata": {
        "colab": {
          "base_uri": "https://localhost:8080/",
          "height": 473
        },
        "id": "QXhQQxZFAcFi",
        "outputId": "2286ea21-561d-4a0f-f13b-ce869c597993"
      },
      "execution_count": 33,
      "outputs": [
        {
          "output_type": "execute_result",
          "data": {
            "text/plain": [
              "(60.27499694824219, 250.0)"
            ]
          },
          "metadata": {},
          "execution_count": 33
        },
        {
          "output_type": "display_data",
          "data": {
            "text/plain": [
              "<Figure size 640x480 with 1 Axes>"
            ],
            "image/png": "[encoded data removed]"
          },
          "metadata": {}
        }
      ]
    },
    {
      "cell_type": "code",
      "source": [
        "def embed_mp4(filename):\n",
        "  video = open(filename, 'rb').read()\n",
        "  b64 = base64.b64encode(video)\n",
        "  tag = '''\n",
        "  <video width=\"640\" height=\"480\" controls>\n",
        "    <source src=\"data:video/mp4;base64,{0}\" type=\"video/mp4\">\n",
        "    Your browser does not support the video tag.\n",
        "  </video>'''.format(b64.decode())\n",
        "\n",
        "  return IPython.display.HTML(tag)"
      ],
      "metadata": {
        "id": "NdMz9u2DAy1x"
      },
      "execution_count": 34,
      "outputs": []
    },
    {
      "cell_type": "code",
      "source": [
        "num_episodes = 3\n",
        "video_filename = 'imageio.mp4'\n",
        "with imageio.get_writer(video_filename, fps=60) as video:\n",
        "  for _ in range(num_episodes):\n",
        "    time_step = eval_py_env.reset()\n",
        "    video.append_data(eval_py_env.render())\n",
        "    while not time_step.is_last():\n",
        "      action_step = tf_agent.policy.action(time_step)\n",
        "      time_step = eval_env.step(action_step.action)\n",
        "      video.append_data(eval_py_env.render())\n",
        "\n",
        "\n",
        "embed_mp4(video_filename)\n"
      ],
      "metadata": {
        "colab": {
          "base_uri": "https://localhost:8080/",
          "height": 541
        },
        "id": "oUDoT-IbBLvJ",
        "outputId": "0c02b409-55a5-4cfe-ef98-c4c3a793f09b"
      },
      "execution_count": 36,
      "outputs": [
        {
          "output_type": "stream",
          "name": "stderr",
          "text": [
            "WARNING:root:IMAGEIO FFMPEG_WRITER WARNING: input image is not divisible by macro_block_size=16, resizing from (400, 600) to (400, 608) to ensure video compatibility with most codecs and players. To prevent resizing, make your input image divisible by the macro_block_size or set the macro_block_size to None (risking incompatibility). You may also see a FFMPEG warning concerning speedloss due to data not being aligned.\n"
          ]
        },
        {
          "output_type": "execute_result",
          "data": {
            "text/plain": [
              "<IPython.core.display.HTML object>"
            ],
            "text/html": [
              "\n",
              "  <video width=\"640\" height=\"480\" controls>\n",
              "    <source src=\"data:video/mp4;base64,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\" type=\"video/mp4\"> \n",
              "    Your browser does not support the video tag. \n",
              "  </video>"
            ]
          },
          "metadata": {},
          "execution_count": 36
        }
      ]
    }
  ]
}